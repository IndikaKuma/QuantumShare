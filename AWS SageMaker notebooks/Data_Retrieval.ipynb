{
 "cells": [
  {
   "cell_type": "code",
   "execution_count": 1,
   "id": "1bd0e214",
   "metadata": {},
   "outputs": [
    {
     "data": {
      "text/plain": [
       "{'status': 'healthy',\n",
       " 'startTime': 'Thu Jun 30 11:53:17 UTC 2022',\n",
       " 'dbEngineVersion': '1.1.1.0.R3',\n",
       " 'role': 'writer',\n",
       " 'dfeQueryEngine': 'viaQueryHint',\n",
       " 'gremlin': {'version': 'tinkerpop-3.5.2'},\n",
       " 'sparql': {'version': 'sparql-1.1'},\n",
       " 'opencypher': {'version': 'Neptune-9.0.20190305-1.0'},\n",
       " 'labMode': {'ObjectIndex': 'disabled',\n",
       "  'ReadWriteConflictDetection': 'enabled'},\n",
       " 'features': {'ResultCache': {'status': 'disabled'},\n",
       "  'IAMAuthentication': 'disabled',\n",
       "  'Streams': 'disabled',\n",
       "  'AuditLog': 'disabled'},\n",
       " 'settings': {'clusterQueryTimeoutInMs': '120000'}}"
      ]
     },
     "execution_count": 1,
     "metadata": {},
     "output_type": "execute_result"
    }
   ],
   "source": [
    "%status"
   ]
  },
  {
   "cell_type": "code",
   "execution_count": 39,
   "id": "29f3dc1d",
   "metadata": {},
   "outputs": [
    {
     "name": "stdout",
     "output_type": "stream",
     "text": [
      "{\n",
      "  \"edges\": {\n",
      "    \"color\": {\n",
      "      \"inherit\": false\n",
      "    },\n",
      "    \"smooth\": {\n",
      "      \"type\": \"straightCross\",\n",
      "      \"enabled\": true\n",
      "    },\n",
      "    \"arrows\": {\n",
      "      \"to\": {\n",
      "        \"type\": \"arrow\",\n",
      "        \"enabled\": true\n",
      "      }\n",
      "    },\n",
      "    \"font\": {\n",
      "      \"face\": \"courier new\"\n",
      "    }\n",
      "  },\n",
      "  \"interaction\": {\n",
      "    \"selectConnectedEdges\": false,\n",
      "    \"hover\": true,\n",
      "    \"hoverConnectedEdges\": true\n",
      "  },\n",
      "  \"physics\": {\n",
      "    \"solver\": \"barnesHut\",\n",
      "    \"stabilization\": {\n",
      "      \"iterations\": 1,\n",
      "      \"enabled\": true\n",
      "    },\n",
      "    \"disablePhysicsAfterInitialSimulation\": false,\n",
      "    \"minVelocity\": 0.75,\n",
      "    \"barnesHut\": {\n",
      "      \"damping\": 0.09,\n",
      "      \"gravitationalConstant\": -50450,\n",
      "      \"springLength\": 95,\n",
      "      \"springConstant\": 0.04,\n",
      "      \"avoidOverlap\": 0.1,\n",
      "      \"centralGravity\": 0.1\n",
      "    },\n",
      "    \"simulationDuration\": 1500,\n",
      "    \"adaptiveTimestep\": true,\n",
      "    \"enabled\": true\n",
      "  },\n",
      "  \"nodes\": {\n",
      "    \"color\": {\n",
      "      \"highlight\": {\n",
      "        \"background\": \"rgba(9, 104, 178, 1)\",\n",
      "        \"border\": \"rgba(8, 62, 100, 1)\"\n",
      "      },\n",
      "      \"background\": \"#F58220\",\n",
      "      \"border\": \"transparent\"\n",
      "    },\n",
      "    \"widthConstraint\": {\n",
      "      \"maximum\": 70,\n",
      "      \"minimum\": 70\n",
      "    },\n",
      "    \"borderWidthSelected\": 0,\n",
      "    \"shadow\": {\n",
      "      \"enabled\": false\n",
      "    },\n",
      "    \"shape\": \"circle\",\n",
      "    \"borderWidth\": 0,\n",
      "    \"font\": {\n",
      "      \"face\": \"courier new\",\n",
      "      \"size\": 12,\n",
      "      \"color\": \"black\"\n",
      "    }\n",
      "  }\n",
      "}\n"
     ]
    }
   ],
   "source": [
    "%graph_notebook_vis_options "
   ]
  },
  {
   "cell_type": "markdown",
   "id": "03bcd279",
   "metadata": {},
   "source": [
    "### QuantumShare Knowledge Base"
   ]
  },
  {
   "cell_type": "code",
   "execution_count": 7,
   "id": "f0e95c60",
   "metadata": {},
   "outputs": [
    {
     "data": {
      "application/vnd.jupyter.widget-view+json": {
       "model_id": "9f5f942dcf544a5195018ea138b49b4b",
       "version_major": 2,
       "version_minor": 0
      },
      "text/plain": [
       "Tab(children=(Output(layout=Layout(max_height='600px', overflow='scroll', width='100%')), Force(network=<graph…"
      ]
     },
     "metadata": {},
     "output_type": "display_data"
    }
   ],
   "source": [
    "%%sparql\n",
    "\n",
    "CONSTRUCT {?s ?p ?o}\n",
    "WHERE {?s ?p ?o}"
   ]
  },
  {
   "cell_type": "markdown",
   "id": "31884332",
   "metadata": {},
   "source": [
    "### Algorithms"
   ]
  },
  {
   "cell_type": "markdown",
   "id": "7c1c172e",
   "metadata": {},
   "source": [
    "#### All algorithms"
   ]
  },
  {
   "cell_type": "code",
   "execution_count": 63,
   "id": "88b1190e",
   "metadata": {},
   "outputs": [
    {
     "data": {
      "application/vnd.jupyter.widget-view+json": {
       "model_id": "eb1a6497189146809308e31fd765bc2a",
       "version_major": 2,
       "version_minor": 0
      },
      "text/plain": [
       "Tab(children=(Output(layout=Layout(max_height='600px', overflow='scroll', width='100%')), Force(network=<graph…"
      ]
     },
     "metadata": {},
     "output_type": "display_data"
    }
   ],
   "source": [
    "%%sparql --expand all\n",
    "PREFIX rdfs: <http://www.w3.org/2000/01/rdf-schema#>\n",
    "PREFIX quantumshare: <http://www.semanticweb.org/20173656/ontologies/2022/5/QuantumShare#> \n",
    "PREFIX QuantumAlgorithm: <http://www.semanticweb.org/20173656/ontologies/2022/5/QuantumAlgorithm#>\n",
    "PREFIX dul: <http://www.ontologydesignpatterns.org/ont/dul/DUL.owl#>\n",
    "\n",
    "CONSTRUCT {?algorithm dul:isPartof ?classes .\n",
    "            ?algorithm rdfs:subClassOf ?other}\n",
    "\n",
    "WHERE {?algorithm rdfs:subClassOf* QuantumAlgorithm:Quantum_Algorithm .\n",
    "        ?algorithm rdfs:subClassOf ?other .\n",
    "        ?algorithm dul:isPartOf ?classes }"
   ]
  },
  {
   "cell_type": "markdown",
   "id": "9e8952b8",
   "metadata": {},
   "source": [
    "#### References to approximate optimization algorithm"
   ]
  },
  {
   "cell_type": "code",
   "execution_count": 2,
   "id": "b22c19a9",
   "metadata": {},
   "outputs": [
    {
     "data": {
      "application/vnd.jupyter.widget-view+json": {
       "model_id": "20dacd45e98b4cfb94a2362296b5404b",
       "version_major": 2,
       "version_minor": 0
      },
      "text/plain": [
       "Tab(children=(Output(layout=Layout(max_height='600px', overflow='scroll', width='100%')), Force(network=<graph…"
      ]
     },
     "metadata": {},
     "output_type": "display_data"
    }
   ],
   "source": [
    "%%sparql --expand all\n",
    "PREFIX rdfs: <http://www.w3.org/2000/01/rdf-schema#>\n",
    "PREFIX quantumshare: <http://www.semanticweb.org/20173656/ontologies/2022/5/QuantumShare#> \n",
    "PREFIX QuantumAlgorithm: <http://www.semanticweb.org/20173656/ontologies/2022/5/QuantumAlgorithm#>\n",
    "PREFIX dul: <http://www.ontologydesignpatterns.org/ont/dul/DUL.owl#>\n",
    "\n",
    "CONSTRUCT {?ref dul:isAbout ?algorithm .\n",
    "            ?ref dul:hasParameter ?metadata.\n",
    "            ?metadata dul:hasParameterDataValue ?value}\n",
    "\n",
    "WHERE {?algorithm rdfs:label \"Quantum Approximate Optimization\" .\n",
    "        ?ref dul:isAbout ?algorithm .\n",
    "        ?ref dul:hasParameter ?metadata.\n",
    "        ?metadata dul:hasParameterDataValue ?value}"
   ]
  },
  {
   "cell_type": "markdown",
   "id": "42a5ae25",
   "metadata": {},
   "source": [
    "#### Detailed information about Approximation and Simulation algorithms"
   ]
  },
  {
   "cell_type": "code",
   "execution_count": 64,
   "id": "392c82ac",
   "metadata": {},
   "outputs": [
    {
     "data": {
      "application/vnd.jupyter.widget-view+json": {
       "model_id": "d4060ade21f144da98182e861e70b69a",
       "version_major": 2,
       "version_minor": 0
      },
      "text/plain": [
       "Tab(children=(Output(layout=Layout(max_height='600px', overflow='scroll', width='100%')), Force(network=<graph…"
      ]
     },
     "metadata": {},
     "output_type": "display_data"
    }
   ],
   "source": [
    "%%sparql --expand all\n",
    "PREFIX rdfs: <http://www.w3.org/2000/01/rdf-schema#>\n",
    "PREFIX quantumshare: <http://www.semanticweb.org/20173656/ontologies/2022/5/QuantumShare#> \n",
    "PREFIX QuantumAlgorithm: <http://www.semanticweb.org/20173656/ontologies/2022/5/QuantumAlgorithm#>\n",
    "PREFIX dul: <http://www.ontologydesignpatterns.org/ont/dul/DUL.owl#>\n",
    "\n",
    "CONSTRUCT {?algorithm dul:isPartof ?classes .\n",
    "            ?algorithm rdfs:comment ?description}\n",
    "\n",
    "WHERE {?algorithm dul:isPartOf ?classes .\n",
    "        ?classes rdfs:subClassOf QuantumAlgorithm:Speedup_Class .\n",
    "        ?algorithm dul:isPartOf quantumshare:Approximation_and_Simulation_Algorithms .\n",
    "        ?algorithm rdfs:comment ?description}"
   ]
  },
  {
   "cell_type": "markdown",
   "id": "718f2a9e",
   "metadata": {},
   "source": [
    "### ExxonMobil"
   ]
  },
  {
   "cell_type": "code",
   "execution_count": 155,
   "id": "f6dc15f8",
   "metadata": {},
   "outputs": [
    {
     "data": {
      "application/vnd.jupyter.widget-view+json": {
       "model_id": "903ce0a6a60a44ba8f09a53c5bdef8ee",
       "version_major": 2,
       "version_minor": 0
      },
      "text/plain": [
       "Tab(children=(Output(layout=Layout(max_height='600px', overflow='scroll', width='100%')), Force(network=<graph…"
      ]
     },
     "metadata": {},
     "output_type": "display_data"
    }
   ],
   "source": [
    "%%sparql --expand all\n",
    "PREFIX rdfs: <http://www.w3.org/2000/01/rdf-schema#>\n",
    "PREFIX quantumshare: <http://www.semanticweb.org/20173656/ontologies/2022/5/QuantumShare#> \n",
    "PREFIX QuantumAlgorithm: <http://www.semanticweb.org/20173656/ontologies/2022/5/QuantumAlgorithm#>\n",
    "PREFIX dul: <http://www.ontologydesignpatterns.org/ont/dul/DUL.owl#>\n",
    "PREFIX ProblemExecution: <http://www.semanticweb.org/20173656/ontologies/2022/5/ProblemExecution#>\n",
    "PREFIX Publication: <http://www.semanticweb.org/20173656/ontologies/2022/5/Publication#>\n",
    "PREFIX mls: <http://www.w3.org/ns/mls/cp#>\n",
    "\n",
    "CONSTRUCT {quantumshare:QUBO_With_ADMM_Solver dul:realizes ?algorithm .\n",
    "quantumshare:QUBO_With_ADMM_Solver ProblemExecution:solvesProblem ?problem .\n",
    "quantumshare:QUBO_With_ADMM_Solver ProblemExecution:hasOrganization ?organization .\n",
    "        quantumshare:QUBO_With_ADMM_Solver mls:hasInput ?input .\n",
    "        quantumshare:QUBO_With_ADMM_Solver mls:hasOutput ?output .\n",
    "         ?input dul:defines ?data .\n",
    "#          ?input dul:hasParameter ?param .\n",
    "#         ?output dul:defines ?performance .\n",
    "         ?data dul:hasParameter ?property .\n",
    "         ?problem dul:isPartOf ?collections}\n",
    "\n",
    "WHERE {quantumshare:QUBO_With_ADMM_Solver dul:realizes ?algorithm .\n",
    "quantumshare:QUBO_With_ADMM_Solver ProblemExecution:solvesProblem ?problem .\n",
    "        quantumshare:QUBO_With_ADMM_Solver ProblemExecution:hasOrganization ?organization .\n",
    "        quantumshare:QUBO_With_ADMM_Solver mls:hasInput ?input .\n",
    "         quantumshare:QUBO_With_ADMM_Solver mls:hasOutput ?output .        \n",
    "         ?input dul:defines ?data .\n",
    "#          ?input dul:hasParameter ?param .\n",
    "#         ?output dul:defines ?performance .\n",
    "         ?data dul:hasParameter ?property .\n",
    "         ?problem dul:isPartOf ?collections}\n"
   ]
  },
  {
   "cell_type": "markdown",
   "id": "4864407e",
   "metadata": {},
   "source": [
    "#### Execution details of ExxonMobil use case"
   ]
  },
  {
   "cell_type": "code",
   "execution_count": 30,
   "id": "90341b41",
   "metadata": {},
   "outputs": [
    {
     "data": {
      "application/vnd.jupyter.widget-view+json": {
       "model_id": "3c9f3be287f34ad4bd83eacb61ac8df4",
       "version_major": 2,
       "version_minor": 0
      },
      "text/plain": [
       "Tab(children=(Output(layout=Layout(max_height='600px', overflow='scroll', width='100%')), Force(network=<graph…"
      ]
     },
     "metadata": {},
     "output_type": "display_data"
    }
   ],
   "source": [
    "%%sparql --expand all\n",
    "PREFIX quantumshare: <http://www.semanticweb.org/20173656/ontologies/2022/5/QuantumShare#> \n",
    "PREFIX QuantumAlgorithm: <http://www.semanticweb.org/20173656/ontologies/2022/5/QuantumAlgorithm#>\n",
    "PREFIX dul: <http://www.ontologydesignpatterns.org/ont/dul/DUL.owl#>\n",
    "PREFIX ProblemExecution: <http://www.semanticweb.org/20173656/ontologies/2022/5/ProblemExecution#>\n",
    "PREFIX mls: <http://www.w3.org/ns/mls/cp#>\n",
    "\n",
    "CONSTRUCT {?execution mls:hasInput ?input .\n",
    "         ?input dul:defines ?data .\n",
    "         ?data dul:hasParameter ?dataproperties .\n",
    "         ?execution mls:hasOutput ?output .        \n",
    "         ?output dul:defines ?performance .\n",
    "         ?performance dul:hasParameter ?performanceproperties.\n",
    "         ?performanceproperties dul:hasParameterDataValue ?value}\n",
    "\n",
    "WHERE {?execution dul:realizes quantumshare:Quantum_Approximate_Optimization .\n",
    "        ?execution mls:hasInput ?input .\n",
    "         ?input dul:defines ?data .\n",
    "         ?data dul:hasParameter ?dataproperties .\n",
    "         ?execution mls:hasOutput ?output .        \n",
    "         ?output dul:defines ?performance .\n",
    "         ?performance dul:hasParameter ?performanceproperties .\n",
    "         OPTIONAL {?performanceproperties dul:hasParameterDataValue ?value}}"
   ]
  },
  {
   "cell_type": "markdown",
   "id": "c69b9c50",
   "metadata": {},
   "source": [
    "#### Problem definition of ExxonMobil use case"
   ]
  },
  {
   "cell_type": "code",
   "execution_count": 19,
   "id": "31bc85c1",
   "metadata": {},
   "outputs": [
    {
     "data": {
      "application/vnd.jupyter.widget-view+json": {
       "model_id": "5fcf8f03411c4842add5dafc5b8aa072",
       "version_major": 2,
       "version_minor": 0
      },
      "text/plain": [
       "Tab(children=(Output(layout=Layout(max_height='600px', overflow='scroll', width='100%')), Force(network=<graph…"
      ]
     },
     "metadata": {},
     "output_type": "display_data"
    }
   ],
   "source": [
    "%%sparql --expand all\n",
    "PREFIX rdfs: <http://www.w3.org/2000/01/rdf-schema#>\n",
    "PREFIX quantumshare: <http://www.semanticweb.org/20173656/ontologies/2022/5/QuantumShare#> \n",
    "PREFIX QuantumAlgorithm: <http://www.semanticweb.org/20173656/ontologies/2022/5/QuantumAlgorithm#>\n",
    "PREFIX dul: <http://www.ontologydesignpatterns.org/ont/dul/DUL.owl#>\n",
    "PREFIX ProblemExecution: <http://www.semanticweb.org/20173656/ontologies/2022/5/ProblemExecution#>\n",
    "\n",
    "CONSTRUCT {?execution dul:realizes quantumshare:Quantum_Approximate_Optimization .\n",
    "        ?execution ProblemExecution:solvesProblem ?problem .\n",
    "        ?problem dul:isPartOf ?context}\n",
    "\n",
    "WHERE {?execution dul:realizes quantumshare:Quantum_Approximate_Optimization .\n",
    "        ?execution ProblemExecution:solvesProblem ?problem .\n",
    "        ?problem dul:isPartOf ?context}"
   ]
  },
  {
   "cell_type": "markdown",
   "id": "f15573d4",
   "metadata": {},
   "source": [
    "#### Organization involved"
   ]
  },
  {
   "cell_type": "code",
   "execution_count": 16,
   "id": "c63027fc",
   "metadata": {},
   "outputs": [
    {
     "data": {
      "application/vnd.jupyter.widget-view+json": {
       "model_id": "cc539e63804f460fa7eaed73b5c9431b",
       "version_major": 2,
       "version_minor": 0
      },
      "text/plain": [
       "Tab(children=(Output(layout=Layout(max_height='600px', overflow='scroll', width='100%')), Output(layout=Layout…"
      ]
     },
     "metadata": {},
     "output_type": "display_data"
    }
   ],
   "source": [
    "%%sparql --expand all\n",
    "PREFIX quantumshare: <http://www.semanticweb.org/20173656/ontologies/2022/5/QuantumShare#> \n",
    "PREFIX QuantumAlgorithm: <http://www.semanticweb.org/20173656/ontologies/2022/5/QuantumAlgorithm#>\n",
    "PREFIX dul: <http://www.ontologydesignpatterns.org/ont/dul/DUL.owl#>\n",
    "PREFIX ProblemExecution: <http://www.semanticweb.org/20173656/ontologies/2022/5/ProblemExecution#>\n",
    "PREFIX org: <http://www.w3.org/ns/org#>\n",
    "\n",
    "SELECT ?organization ?department ?site\n",
    "\n",
    "WHERE {?execution dul:realizes quantumshare:Quantum_Approximate_Optimization .\n",
    "        ?execution ProblemExecution:hasOrganization ?department .\n",
    "        ?department org:unitOf ?organization .\n",
    "        ?organization org:classification quantumshare:energy_provider .\n",
    "        ?department org:hasSite ?site}"
   ]
  },
  {
   "cell_type": "markdown",
   "id": "777ac788",
   "metadata": {},
   "source": [
    "#### Reference"
   ]
  },
  {
   "cell_type": "code",
   "execution_count": 32,
   "id": "8d393e1f",
   "metadata": {},
   "outputs": [
    {
     "data": {
      "application/vnd.jupyter.widget-view+json": {
       "model_id": "102182ed1ef24784b07e295214edf42d",
       "version_major": 2,
       "version_minor": 0
      },
      "text/plain": [
       "Tab(children=(Output(layout=Layout(max_height='600px', overflow='scroll', width='100%')), Output(layout=Layout…"
      ]
     },
     "metadata": {},
     "output_type": "display_data"
    }
   ],
   "source": [
    "%%sparql --expand all\n",
    "PREFIX quantumshare: <http://www.semanticweb.org/20173656/ontologies/2022/5/QuantumShare#> \n",
    "PREFIX QuantumAlgorithm: <http://www.semanticweb.org/20173656/ontologies/2022/5/QuantumAlgorithm#>\n",
    "PREFIX dul: <http://www.ontologydesignpatterns.org/ont/dul/DUL.owl#>\n",
    "PREFIX ProblemExecution: <http://www.semanticweb.org/20173656/ontologies/2022/5/ProblemExecution#>\n",
    "\n",
    "SELECT ?ref ?value\n",
    "\n",
    "WHERE {?execution dul:realizes quantumshare:Quantum_Approximate_Optimization .\n",
    "        ?ref dul:isAbout ?execution .\n",
    "        ?ref dul:hasParameter ?metadata.\n",
    "        ?metadata dul:hasParameterDataValue ?value}"
   ]
  },
  {
   "cell_type": "markdown",
   "id": "f357a1fd",
   "metadata": {},
   "source": [
    "### Implementation"
   ]
  },
  {
   "cell_type": "markdown",
   "id": "62be8f1f",
   "metadata": {},
   "source": [
    "#### Implementation used in execution by ExxonMobil"
   ]
  },
  {
   "cell_type": "code",
   "execution_count": 38,
   "id": "7a1658b5",
   "metadata": {},
   "outputs": [
    {
     "data": {
      "application/vnd.jupyter.widget-view+json": {
       "model_id": "d18fcb3ec311452abc2dd232db8095ac",
       "version_major": 2,
       "version_minor": 0
      },
      "text/plain": [
       "Tab(children=(Output(layout=Layout(max_height='600px', overflow='scroll', width='100%')), Output(layout=Layout…"
      ]
     },
     "metadata": {},
     "output_type": "display_data"
    }
   ],
   "source": [
    "%%sparql --expand all\n",
    "PREFIX quantumshare: <http://www.semanticweb.org/20173656/ontologies/2022/5/QuantumShare#> \n",
    "PREFIX QuantumAlgorithm: <http://www.semanticweb.org/20173656/ontologies/2022/5/QuantumAlgorithm#>\n",
    "PREFIX dul: <http://www.ontologydesignpatterns.org/ont/dul/DUL.owl#>\n",
    "PREFIX ProblemExecution: <http://www.semanticweb.org/20173656/ontologies/2022/5/ProblemExecution#>\n",
    "\n",
    "SELECT ?implementation\n",
    "\n",
    "WHERE {?execution dul:realizes quantumshare:Quantum_Approximate_Optimization .\n",
    "        ?execution dul:isPartOf ?implementation}"
   ]
  },
  {
   "cell_type": "markdown",
   "id": "2c87df89",
   "metadata": {},
   "source": [
    "#### Hardware properties"
   ]
  },
  {
   "cell_type": "code",
   "execution_count": 47,
   "id": "c0f1e3e2",
   "metadata": {},
   "outputs": [
    {
     "data": {
      "application/vnd.jupyter.widget-view+json": {
       "model_id": "4c399cfa510848109105a521dc3cbe45",
       "version_major": 2,
       "version_minor": 0
      },
      "text/plain": [
       "Tab(children=(Output(layout=Layout(max_height='600px', overflow='scroll', width='100%')), Force(network=<graph…"
      ]
     },
     "metadata": {},
     "output_type": "display_data"
    }
   ],
   "source": [
    "%%sparql --expand all\n",
    "PREFIX quantumshare: <http://www.semanticweb.org/20173656/ontologies/2022/5/QuantumShare#> \n",
    "PREFIX QuantumAlgorithm: <http://www.semanticweb.org/20173656/ontologies/2022/5/QuantumAlgorithm#>\n",
    "PREFIX dul: <http://www.ontologydesignpatterns.org/ont/dul/DUL.owl#>\n",
    "PREFIX ProblemExecution: <http://www.semanticweb.org/20173656/ontologies/2022/5/ProblemExecution#>\n",
    "PREFIX cs: <http://mklab.iti.gr/pericles/ComputerSystem_ODP#>\n",
    "PREFIX Implementation: <http://www.semanticweb.org/20173656/ontologies/2022/5/QuantumImplementation#>\n",
    "PREFIX muo: <http://elite.polito.it/ontologies/muo-vocab.owl#>\n",
    "\n",
    "CONSTRUCT {?implementation cs:usesHardware ?resource .\n",
    "            ?resource Implementation:involvesOrganization ?resourceprovider .\n",
    "            ?resource dul:hasParameter ?resourceproperty .\n",
    "            ?resourceproperty dul:hasParameterDataValue ?value .\n",
    "            ?resourceproperty dul:parametrizes ?quality .\n",
    "            ?quality muo:measuredIn ?measurementunit}\n",
    "\n",
    "WHERE {?execution dul:realizes quantumshare:Quantum_Approximate_Optimization .\n",
    "        ?execution dul:isPartOf ?implementation .\n",
    "        ?implementation cs:usesHardware ?resource .\n",
    "        ?resource rdfs:subClassOf Implementation:Quantum_Processing_Unit .\n",
    "        ?resource Implementation:involvesOrganization ?resourceprovider .\n",
    "        ?resource dul:hasParameter ?resourceproperty .\n",
    "        ?resourceproperty dul:hasParameterDataValue ?value .\n",
    "        OPTIONAL {?resourceproperty dul:parametrizes ?quality .\n",
    "        ?quality muo:measuredIn ?measurementunit}}"
   ]
  },
  {
   "cell_type": "markdown",
   "id": "3c2fa63a",
   "metadata": {},
   "source": [
    "#### Software properties"
   ]
  },
  {
   "cell_type": "code",
   "execution_count": 62,
   "id": "88d535cf",
   "metadata": {},
   "outputs": [
    {
     "data": {
      "application/vnd.jupyter.widget-view+json": {
       "model_id": "4bdb3c060a764c04ac7dec7dc835938e",
       "version_major": 2,
       "version_minor": 0
      },
      "text/plain": [
       "Tab(children=(Output(layout=Layout(max_height='600px', overflow='scroll', width='100%')), Force(network=<graph…"
      ]
     },
     "metadata": {},
     "output_type": "display_data"
    }
   ],
   "source": [
    "%%sparql --expand all\n",
    "PREFIX quantumshare: <http://www.semanticweb.org/20173656/ontologies/2022/5/QuantumShare#> \n",
    "PREFIX QuantumAlgorithm: <http://www.semanticweb.org/20173656/ontologies/2022/5/QuantumAlgorithm#>\n",
    "PREFIX dul: <http://www.ontologydesignpatterns.org/ont/dul/DUL.owl#>\n",
    "PREFIX ProblemExecution: <http://www.semanticweb.org/20173656/ontologies/2022/5/ProblemExecution#>\n",
    "PREFIX cs: <http://mklab.iti.gr/pericles/ComputerSystem_ODP#>\n",
    "PREFIX Implementation: <http://www.semanticweb.org/20173656/ontologies/2022/5/QuantumImplementation#>\n",
    "PREFIX muo: <http://elite.polito.it/ontologies/muo-vocab.owl#>\n",
    "\n",
    "CONSTRUCT {?implementation cs:usesSoftware ?software .\n",
    "            ?externalsoftware cs:isCompatibleWith ?implementation .\n",
    "            ?software dul:hasParameter ?softwareproperty .\n",
    "            ?softwareproperty dul:hasParameterDataValue ?value .\n",
    "            ?softwareproperty dul:parametrizes ?quality .\n",
    "            ?quality muo:measuredIn ?measurementunit .\n",
    "            ?externalsoftware rdfs:subClassOf ?type}\n",
    "\n",
    "WHERE {?execution dul:realizes quantumshare:Quantum_Approximate_Optimization .\n",
    "        ?execution dul:isPartOf ?implementation .\n",
    "        ?implementation cs:usesSoftware ?software .\n",
    "        ?externalsoftware cs:isCompatibleWith ?implementation .\n",
    "        ?software dul:hasParameter ?softwareproperty .\n",
    "        ?softwareproperty dul:hasParameterDataValue ?value .\n",
    "        ?externalsoftware rdfs:subClassOf ?type .\n",
    "        OPTIONAL {?softwareproperty dul:parametrizes ?quality .\n",
    "        ?quality muo:measuredIn ?measurementunit}}"
   ]
  }
 ],
 "metadata": {
  "kernelspec": {
   "display_name": "Python 3",
   "language": "python",
   "name": "python3"
  },
  "language_info": {
   "codemirror_mode": {
    "name": "ipython",
    "version": 3
   },
   "file_extension": ".py",
   "mimetype": "text/x-python",
   "name": "python",
   "nbconvert_exporter": "python",
   "pygments_lexer": "ipython3",
   "version": "3.7.12"
  }
 },
 "nbformat": 4,
 "nbformat_minor": 5
}
